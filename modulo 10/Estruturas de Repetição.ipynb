{
 "cells": [
  {
   "cell_type": "markdown",
   "id": "ac60394f",
   "metadata": {
    "id": "ac60394f"
   },
   "source": [
    "# Estruturas de repetição\n",
    "\n",
    "<span style=\"color: red;\"><b>Todos os exercícios são feitos partindo-se do pressuposto de que todas as entradas são dadas de forma correta. Casos limite não mencionados no enunciado não são abordados porque não fazem parte do exercício.</b></span>"
   ]
  },
  {
   "cell_type": "markdown",
   "id": "017affd0",
   "metadata": {
    "id": "017affd0"
   },
   "source": [
    "#### 1. Faça um programa que peça uma nota, entre zero e dez. Mostre uma mensagem caso o valor seja inválido e continue pedindo até que o usuário informe um valor válido."
   ]
  },
  {
   "cell_type": "code",
   "execution_count": null,
   "id": "5f12870d",
   "metadata": {
    "id": "5f12870d"
   },
   "outputs": [
    {
     "name": "stdout",
     "output_type": "stream",
     "text": [
      "0, cadastrada com sucesso.\n",
      "12, nao correspode ao um numero entre 0 e 10\n"
     ]
    }
   ],
   "source": [
    "while True:\n",
    "    nota = float(input(\"Informe uma nota entre 0 e 10:\"))\n",
    "    if 0 <= nota <= 10:\n",
    "        print(f\"{nota:.0f}, cadastrada com sucesso.\")\n",
    "    else:\n",
    "        print(f\"{nota:.0f}, nao correspode ao um numero entre 0 e 10\")\n",
    "        break"
   ]
  },
  {
   "cell_type": "markdown",
   "id": "dd0c6d56",
   "metadata": {
    "id": "dd0c6d56"
   },
   "source": [
    "#### 2. Faça um programa que leia um nome de usuário e a sua senha e não aceite a senha igual ao nome do usuário, mostrando uma mensagem de erro e voltando a pedir as informações."
   ]
  },
  {
   "cell_type": "code",
   "execution_count": 14,
   "id": "f6579866",
   "metadata": {
    "id": "f6579866"
   },
   "outputs": [
    {
     "name": "stdout",
     "output_type": "stream",
     "text": [
      "Senha não pode ser igual ao login\n"
     ]
    }
   ],
   "source": [
    "logim = input(\"Informe o login\")\n",
    "senha = input(\"informe uma senha\")\n",
    "\n",
    "while logim == senha:\n",
    "    print(\"Senha não pode ser igual ao login\")\n",
    "    logim = input(\"Informe o login\")\n",
    "    senha = input(\"informe uma senha\")"
   ]
  },
  {
   "cell_type": "markdown",
   "id": "ed113a82",
   "metadata": {
    "id": "ed113a82"
   },
   "source": [
    "#### 3. Faça um programa que leia e valide as seguintes informações (e para cada uma delas, continue pedindo a informação até o usuário inserir corretamente):\n",
    "##### Nome: maior que 3 caracteres;\n",
    "##### Idade: entre 0 e 150;\n",
    "##### Salário: maior que zero;\n",
    "##### Sexo: 'f' ou 'm';\n",
    "##### Estado Civil: 's', 'c', 'v', 'd';"
   ]
  },
  {
   "cell_type": "code",
   "execution_count": null,
   "id": "3284f187",
   "metadata": {
    "id": "3284f187"
   },
   "outputs": [
    {
     "name": "stdout",
     "output_type": "stream",
     "text": [
      "nome com menos de 3 caracteres\n",
      "Genero não correspondente:\n"
     ]
    }
   ],
   "source": [
    "nome = input(\"Informe seu nome:\")\n",
    "while len(nome) < 4:\n",
    "    print(\"nome com menos de 3 caracteres\")\n",
    "    nome = input(\"Informe seu nome:\")\n",
    "\n",
    "idade = int(input(\"Informe sua idade; entre 0 e 150:\"))\n",
    "while not (0 <= idade <= 150):\n",
    "    print(\"idade invalida, informe idade entre 0 e 150\")\n",
    "    idade = int(input(\"Informe sua idade; entre 0 e 150:\"))\n",
    "\n",
    "salalario = float(input(\"Informe seu salário:\"))\n",
    "while salalario <= 0:\n",
    "    print(\"informe salario novamente, com valor superior a 0:\")\n",
    "    salalario = float(input(\"Informe seu salário:\"))\n",
    "\n",
    "sexo = input(\"Qual seu genero; responda com f para feminino ou m para masculino\")\n",
    "while not sexo in [\"f\", \"m\"]:\n",
    "    print(\"Genero não correspondente:\")\n",
    "    sexo = input(\"Qual seu genero; responda com f para feminino ou m para masculino\")\n",
    "\n",
    "estado_civil = input(\" Responda com: s par solteiro, c para casado, v para viuvo ou d para divorciado:\")\n",
    "while not estado_civil in [\"s\", \"c\", \"v\", \"d\"]:\n",
    "    print(\"Estado civil não informado corretamente.\")\n",
    "    estado_civil = input(\" Responda com: s par solteiro, c para casado, v para viuvo ou d para divorciado:\")"
   ]
  },
  {
   "cell_type": "markdown",
   "id": "2f25dceb",
   "metadata": {
    "id": "2f25dceb"
   },
   "source": [
    "#### 4. Supondo que a população de um país A seja da ordem de 80000 habitantes com uma taxa anual de crescimento de 3% e que a população de B seja 200000 habitantes com uma taxa de crescimento de 1.5%. Faça um programa que calcule e escreva o número de anos necessários para que a população do país A ultrapasse ou iguale a população do país B, mantidas as taxas de crescimento."
   ]
  },
  {
   "cell_type": "code",
   "execution_count": 27,
   "id": "7ad0f5e9",
   "metadata": {
    "id": "7ad0f5e9"
   },
   "outputs": [
    {
     "name": "stdout",
     "output_type": "stream",
     "text": [
      "63 anos, para a população A chegue a mesma proporção que a população B\n"
     ]
    }
   ],
   "source": [
    "populacaoA = 80000\n",
    "populacaoB = 200000\n",
    "tempo = 0\n",
    "\n",
    "while populacaoA < populacaoB:\n",
    "    populacaoA *= 1.03\n",
    "    populacaoB *= 1.015\n",
    "    tempo += 1\n",
    "\n",
    "print(f\"{tempo} anos, para a população A chegue a mesma proporção que a população B\")\n"
   ]
  },
  {
   "cell_type": "markdown",
   "id": "e9626858",
   "metadata": {
    "id": "e9626858"
   },
   "source": [
    "#### 5. Altere o programa anterior permitindo ao usuário informar as populações e as taxas de crescimento iniciais. Valide a entrada e permita repetir a operação."
   ]
  },
  {
   "cell_type": "code",
   "execution_count": null,
   "id": "c7e250a4",
   "metadata": {
    "id": "c7e250a4"
   },
   "outputs": [
    {
     "name": "stdout",
     "output_type": "stream",
     "text": [
      "67 anos, para a população A igualar a população B\n"
     ]
    }
   ],
   "source": [
    "repetir = \"a\"\n",
    "\n",
    "while repetir == \"a\":\n",
    "    populacaoA = int(input(\"Informe o tamanho da população A\"))\n",
    "    populacaoB = int(input(\"Informe o tamanho da população B\"))\n",
    "    while populacaoA <= 0 or populacaoB <= 0:\n",
    "        print(\"Valores de população igual a 0, informe valores acima de zero\")\n",
    "        populacaoA = int(input(\"Informe o tamanho da população A\"))\n",
    "        populacaoB = int(input(\"Informe o tamanho da população B\"))\n",
    "\n",
    "    taxaA = float(input(\"Informea taxa de crescimento da população A\"))\n",
    "    taxaB = float(input(\"Informea taxa de crescimento da população B\"))\n",
    "    while taxaA <= 0 or taxaB <= 0:\n",
    "        print(\"taxa de crescimento invalida:\")    \n",
    "        taxaA = float(input(\"Informea taxa de crescimento da população A\"))\n",
    "        taxaB = float(input(\"Informea taxa de crescimento da população B\"))\n",
    "\n",
    "    taxaA = taxaA / 100 + 1\n",
    "    taxaB = taxaB / 100 + 1\n",
    "    tempo = 0\n",
    "\n",
    "    while populacaoA < populacaoB:\n",
    "        populacaoA *= taxaA\n",
    "        populacaoB *= taxaB\n",
    "        tempo += 1\n",
    "\n",
    "    print(f\"{tempo} anos, para a população A igualar a população B\")\n",
    "    repetir = input(\"Para repetir a operação digite s\")\n",
    "\n"
   ]
  },
  {
   "cell_type": "markdown",
   "id": "b3d268b5",
   "metadata": {
    "id": "b3d268b5"
   },
   "source": [
    "#### 6. Faça um programa que peça para o usuário inserir o faturamento dos últimos 5 meses (individualmente) e informe o maior faturamento"
   ]
  },
  {
   "cell_type": "code",
   "execution_count": 38,
   "id": "8078e7a5",
   "metadata": {
    "id": "8078e7a5"
   },
   "outputs": [
    {
     "name": "stdout",
     "output_type": "stream",
     "text": [
      "O maior faturamento dos ultimos 5 meses foi R$: 496.00\n"
     ]
    }
   ],
   "source": [
    "faturamentos = []\n",
    "for i in range(5):\n",
    "    faturamento = int(input(\"Informe o faturamento dos ultimos 5 anos\"))\n",
    "    faturamentos.append(faturamento)\n",
    "\n",
    "print(f\"O maior faturamento dos ultimos 5 meses foi R$: {max(faturamentos):,.2f}\")"
   ]
  },
  {
   "cell_type": "markdown",
   "id": "6407824c",
   "metadata": {
    "id": "6407824c"
   },
   "source": [
    "#### 7. Faça um programa que peça para o usuário inserir o faturamento dos últimos 5 meses (individualmente) e informe o faturamento total (soma) e o faturamento médio por mês (média)."
   ]
  },
  {
   "cell_type": "code",
   "execution_count": 40,
   "id": "a02320d1",
   "metadata": {
    "id": "a02320d1"
   },
   "outputs": [
    {
     "name": "stdout",
     "output_type": "stream",
     "text": [
      "Faturamento total R$: 26,373.00\n",
      "Faturamento médio mensal R$: 5,274.60 \n"
     ]
    }
   ],
   "source": [
    "faturamentos = []\n",
    "for i in range(5):\n",
    "    faturamento = int(input(\"Informe o faturamento dos ultimos 5 meses:\"))\n",
    "    faturamentos.append(faturamento)\n",
    "\n",
    "print(f\"Faturamento total R$: {sum(faturamentos):,.2f}\")\n",
    "print(f\"Faturamento médio mensal R$: {sum(faturamentos) / len(faturamentos):,.2f} \")\n"
   ]
  },
  {
   "cell_type": "markdown",
   "id": "703f3c4d",
   "metadata": {
    "id": "703f3c4d"
   },
   "source": [
    "#### 8. Faça um programa que consiga categorizar a idade das equipes de uma empresa. Faça um programa que peça para n pessoas a sua idade, ao final o programa devera verificar se a média de idade da equipe varia entre 0 e 25 (jovem) ,26 e 60 (sênior) e maior que 60 (idosa); e então, dizer se a equipe é jovem, sênior ou idosa, conforme a média calculada."
   ]
  },
  {
   "cell_type": "code",
   "execution_count": null,
   "id": "b56a85de",
   "metadata": {
    "id": "b56a85de"
   },
   "outputs": [
    {
     "name": "stdout",
     "output_type": "stream",
     "text": [
      "63, media de idade é de idosos.\n"
     ]
    }
   ],
   "source": [
    "funcionarios = int(input(\"Quantos funcionarios há?\"))\n",
    "idades = []\n",
    "\n",
    "for i in range(funcionarios):\n",
    "    idade = int(input(\"informe a idade do funcionario:\"))\n",
    "    idades.append(idade)\n",
    "\n",
    "meidia_idade = sum(idades) / len(idades)\n",
    "if 0 <= meidia_idade <= 25:\n",
    "    print(f\"{meidia_idade:.0f}, media de idade é de jovem\")\n",
    "elif 26 <= meidia_idade < 60:\n",
    "    print(f\"{meidia_idade:.0f}, media de idade é de Sênios.\")\n",
    "elif meidia_idade > 60:\n",
    "    print(f\"{meidia_idade:.0f} Anos, media de idade é de idosos.\")\n",
    "\n",
    "    \n",
    "    "
   ]
  },
  {
   "cell_type": "markdown",
   "id": "aad21b98",
   "metadata": {
    "id": "aad21b98"
   },
   "source": [
    "#### 9. Numa eleição existem três candidatos. Faça um programa que peça o número total de eleitores. Peça para cada eleitor votar e ao final mostrar o número de votos de cada candidato."
   ]
  },
  {
   "cell_type": "code",
   "execution_count": 52,
   "id": "84aa7a93",
   "metadata": {
    "id": "84aa7a93"
   },
   "outputs": [
    {
     "name": "stdout",
     "output_type": "stream",
     "text": [
      "candidato A teve: 4\n",
      "candidato B teve: 3\n",
      "candidato C teve: 3\n"
     ]
    }
   ],
   "source": [
    "a = 0\n",
    "b = 0\n",
    "c = 0\n",
    "eleitores = int(input(\"Há quantos eleitores\"))\n",
    "\n",
    "for i in range(eleitores):\n",
    "    eleitor = input('Vote no candidato a, b ou c')\n",
    "    if eleitor == 'a':\n",
    "        a += 1\n",
    "    elif eleitor == 'b':\n",
    "        b += 1\n",
    "    elif eleitor == 'c':\n",
    "        c += 1 \n",
    "\n",
    "print(f\"candidato A teve: {a}\\ncandidato B teve: {b}\\ncandidato C teve: {c}\")\n",
    "\n"
   ]
  },
  {
   "cell_type": "markdown",
   "id": "6e306453",
   "metadata": {
    "id": "6e306453"
   },
   "source": [
    "#### 10. Faça um programa que calcule o valor total investido por um colecionador em sua coleção de CDs e o valor médio gasto em cada um deles. O usuário deverá informar a quantidade de CDs e o valor para em cada um."
   ]
  },
  {
   "cell_type": "code",
   "execution_count": 58,
   "id": "6b7fa4a2",
   "metadata": {
    "id": "6b7fa4a2"
   },
   "outputs": [
    {
     "name": "stdout",
     "output_type": "stream",
     "text": [
      "Valor total da coleção de CDs R$: 60.00\n",
      "O valor medio de cada CD é de R$: 30.00\n"
     ]
    }
   ],
   "source": [
    "qtd_cds = int(input(\"Qual a quantidade de CDs\"))\n",
    "valor = []\n",
    "\n",
    "for i in range(qtd_cds):\n",
    "    vlr_cds = float(input(f\"Qual o valor do {i + 1}º CD\"))\n",
    "    valor.append(vlr_cds)\n",
    "\n",
    "print(f\"Valor total da coleção de CDs R$: {sum(valor):,.2f}\")\n",
    "print(f\"O valor medio de cada CD é de R$: {sum(valor) / len(valor):,.2f}\")\n"
   ]
  },
  {
   "cell_type": "markdown",
   "id": "f19c8d86",
   "metadata": {
    "id": "f19c8d86"
   },
   "source": [
    "#### 11. O Sr. Manoel Joaquim possui uma grande loja de artigos de R\\\\$ 1,99, com cerca de 10 caixas. Para agilizar o cálculo de quanto cada cliente deve pagar ele desenvolveu um tabela que contém o número de itens que o cliente comprou e ao lado o valor da conta. Desta forma a atendente do caixa precisa apenas contar quantos itens o cliente está levando e olhar na tabela de preços. Você foi contratado para desenvolver o programa que monta esta tabela de preços, que conterá os preços de 1 até 50 produtos, conforme o exemplo abaixo:\n",
    "<pre>\n",
    "Lojas Quase Dois - Tabela de preços\n",
    "1 - R$ 1.99\n",
    "2 - R$ 3.98\n",
    "...\n",
    "50 - R$ 99.50\n",
    "</pre>"
   ]
  },
  {
   "cell_type": "code",
   "execution_count": 65,
   "id": "4fc4d54d",
   "metadata": {
    "id": "4fc4d54d"
   },
   "outputs": [
    {
     "name": "stdout",
     "output_type": "stream",
     "text": [
      "Lojas Quase Dois - Tabela de preços\n",
      "1 - R$ 1.99\n",
      "2 - R$ 3.98\n",
      "3 - R$ 5.97\n",
      "4 - R$ 7.96\n",
      "5 - R$ 9.95\n",
      "6 - R$ 11.94\n",
      "7 - R$ 13.93\n",
      "8 - R$ 15.92\n",
      "9 - R$ 17.91\n",
      "10 - R$ 19.90\n",
      "11 - R$ 21.89\n",
      "12 - R$ 23.88\n",
      "13 - R$ 25.87\n",
      "14 - R$ 27.86\n",
      "15 - R$ 29.85\n",
      "16 - R$ 31.84\n",
      "17 - R$ 33.83\n",
      "18 - R$ 35.82\n",
      "19 - R$ 37.81\n",
      "20 - R$ 39.80\n",
      "21 - R$ 41.79\n",
      "22 - R$ 43.78\n",
      "23 - R$ 45.77\n",
      "24 - R$ 47.76\n",
      "25 - R$ 49.75\n",
      "26 - R$ 51.74\n",
      "27 - R$ 53.73\n",
      "28 - R$ 55.72\n",
      "29 - R$ 57.71\n",
      "30 - R$ 59.70\n",
      "31 - R$ 61.69\n",
      "32 - R$ 63.68\n",
      "33 - R$ 65.67\n",
      "34 - R$ 67.66\n",
      "35 - R$ 69.65\n",
      "36 - R$ 71.64\n",
      "37 - R$ 73.63\n",
      "38 - R$ 75.62\n",
      "39 - R$ 77.61\n",
      "40 - R$ 79.60\n",
      "41 - R$ 81.59\n",
      "42 - R$ 83.58\n",
      "43 - R$ 85.57\n",
      "44 - R$ 87.56\n",
      "45 - R$ 89.55\n",
      "46 - R$ 91.54\n",
      "47 - R$ 93.53\n",
      "48 - R$ 95.52\n",
      "49 - R$ 97.51\n",
      "50 - R$ 99.50\n"
     ]
    }
   ],
   "source": [
    "qtd = int(input(\"Quantos o produto o cliente esta levando\"))\n",
    "preco = 0\n",
    "\n",
    "print(\"Lojas Quase Dois - Tabela de preços\")\n",
    "for i in range(qtd):\n",
    "    preco += 1.99\n",
    "    print(f\"{i+1} - R$ {preco:,.2f}\")\n"
   ]
  },
  {
   "cell_type": "markdown",
   "id": "6cd19c52",
   "metadata": {
    "id": "6cd19c52"
   },
   "source": [
    "#### 12. Um funcionário de uma empresa recebe aumento salarial anualmente: Sabe-se que:\n",
    "<pre>\n",
    "Esse funcionário foi contratado em 1995, com salário inicial de R$ 1.000,00;\n",
    "Em 1996 recebeu aumento de 1,5% sobre seu salário inicial;\n",
    "A partir de 1997 (inclusive), os aumentos salariais sempre correspondem ao dobro do percentual do ano anterior. Faça um programa que determine o salário desse funcionário em 2003. \n",
    "</pre>"
   ]
  },
  {
   "cell_type": "code",
   "execution_count": 76,
   "id": "98a4811b",
   "metadata": {
    "id": "98a4811b"
   },
   "outputs": [
    {
     "name": "stdout",
     "output_type": "stream",
     "text": [
      "O salario em 2003 era de R$: 13,036.15\n"
     ]
    }
   ],
   "source": [
    "salalario = 1000 * 1.015\n",
    "aumentoInicial = 0.015\n",
    "\n",
    "for i in range(1997, 2004):\n",
    "    aumentoInicial *= 2\n",
    "    salalario *= (1 + aumentoInicial)\n",
    "\n",
    "print(f\"O salario em 2003 era de R$: {salalario:,.2f}\")\n",
    "\n"
   ]
  },
  {
   "cell_type": "markdown",
   "id": "227928d1",
   "metadata": {
    "id": "227928d1"
   },
   "source": [
    "#### 13. O cardápio de uma lanchonete é o seguinte:\n",
    "<pre>\n",
    "Especificação   Código  Preço\n",
    "Cachorro Quente 100     R$ 1,20\n",
    "Bauru Simples   101     R$ 1,30\n",
    "Bauru com ovo   102     R$ 1,50\n",
    "Hambúrguer      103     R$ 1,20\n",
    "Cheeseburguer   104     R$ 1,30\n",
    "Refrigerante    105     R$ 1,00\n",
    "Faça um programa que leia o código dos itens pedidos e as quantidades desejadas. Calcule e mostre o valor a ser pago por item (preço * quantidade) e o total geral do pedido. Considere que o cliente deve informar quando o pedido deve ser encerrado.\n",
    "</pre>"
   ]
  },
  {
   "cell_type": "code",
   "execution_count": 83,
   "id": "8a784b86",
   "metadata": {
    "id": "8a784b86"
   },
   "outputs": [
    {
     "name": "stdout",
     "output_type": "stream",
     "text": [
      "O valor total da conta R$: 54.00\n"
     ]
    }
   ],
   "source": [
    "codigo = int(input(\"Qual o codigo do produto\"))\n",
    "total = 0\n",
    "while codigo != \"\":\n",
    "    qtd = int(input(\"Informe a quantidade\"))\n",
    "    if codigo == 100:\n",
    "        total += 1.20 * qtd\n",
    "    elif codigo == 101:\n",
    "        total += 1.30 * qtd\n",
    "    elif codigo == 102:\n",
    "        total += 1.50 * qtd\n",
    "    elif codigo == 103:\n",
    "        total += 1.20 * qtd\n",
    "    elif codigo == 104:\n",
    "        total += 1.30 * qtd\n",
    "    elif codigo == 105:\n",
    "        total += 1.00 * qtd\n",
    "    codigo = input(\"para encerra é só aperta enter\")\n",
    "print(f\"O valor total da conta R$: {total:,.2f}\")"
   ]
  },
  {
   "cell_type": "markdown",
   "id": "9877b8ba",
   "metadata": {
    "id": "9877b8ba"
   },
   "source": [
    "#### 14. Uma grande emissora de televisão quer fazer uma enquete entre os seus telespectadores para saber qual o melhor jogador após cada jogo. Para isto, faz-se necessário o desenvolvimento de um programa, que será utilizado pelas telefonistas, para a computação dos votos. Sua equipe foi contratada para desenvolver este programa, utilizando a linguagem de programação Python. Para computar cada voto, a telefonista digitará um número, entre 1 e 23, correspondente ao número da camisa do jogador. Um número de jogador igual zero, indica que a votação foi encerrada. Se um número inválido for digitado, o programa deve ignorá-lo, mostrando uma breve mensagem de aviso, e voltando a pedir outro número. Após o final da votação, o programa deverá exibir:\n",
    "<pre>a. O total de votos computados;\n",
    "b. Os números e respectivos votos de todos os jogadores que receberam votos;\n",
    "c. O percentual de votos de cada um destes jogadores;\n",
    "d. O número do jogador escolhido como o melhor jogador da partida, juntamente com o número de votos e o percentual de votos dados a ele.\n",
    "        Observe que os votos inválidos e o zero final não devem ser computados como votos. O resultado aparece ordenado pelo número do jogador. O programa deve fazer uso de arrays. O programa deverá executar o cálculo do percentual de cada jogador através de uma função. Esta função receberá dois parâmetros: o número de votos de um jogador e o total de votos. A função calculará o percentual e retornará o valor calculado. Abaixo segue uma tela de exemplo. O disposição das informações deve ser o mais próxima possível ao exemplo. Os dados são fictícios e podem mudar a cada execução do programa. Ao final, o programa deve ainda gravar os dados referentes ao resultado da votação em um arquivo texto no disco, obedecendo a mesma disposição apresentada na tela.</pre>\n",
    "```\n",
    "Enquete: Quem foi o melhor jogador?\n",
    "\n",
    "Número do jogador (0=fim): 9\n",
    "Número do jogador (0=fim): 10\n",
    "Número do jogador (0=fim): 9\n",
    "Número do jogador (0=fim): 10\n",
    "Número do jogador (0=fim): 11\n",
    "Número do jogador (0=fim): 10\n",
    "Número do jogador (0=fim): 50\n",
    "Informe um valor entre 1 e 23 ou 0 para sair!\n",
    "Número do jogador (0=fim): 9\n",
    "Número do jogador (0=fim): 9\n",
    "Número do jogador (0=fim): 0\n",
    "\n",
    "Resultado da votação:\n",
    "\n",
    "Foram computados 8 votos.\n",
    "\n",
    "Jogador Votos           %\n",
    "9               4               50,0%\n",
    "10              3               37,5%\n",
    "11              1               12,5%\n",
    "``` "
   ]
  },
  {
   "cell_type": "code",
   "execution_count": 87,
   "id": "79b82364",
   "metadata": {
    "id": "79b82364"
   },
   "outputs": [
    {
     "name": "stdout",
     "output_type": "stream",
     "text": [
      "Enquete: Quem foi o melhor jogador?\n",
      "Informe um valor entre 1 e 23 ou 0 para sair!\n",
      "Informe um valor entre 1 e 23 ou 0 para sair!\n",
      "Foram computados 5 votos.\n",
      "Jogador\tVotos\t%\n",
      "15\t1\t20.0%\n",
      "16\t1\t20.0%\n",
      "20\t1\t20.0%\n",
      "21\t1\t20.0%\n",
      "23\t1\t20.0%\n",
      "O melhor jogador foi o número 15, com 1 votos, correspondendo a 20% do total de votos.\n"
     ]
    }
   ],
   "source": [
    "votos = []\n",
    "print('Enquete: Quem foi o melhor jogador?')\n",
    "for i in range(23):\n",
    "    votos.append(0)\n",
    "\n",
    "while True:\n",
    "    numero = int(input('Número do jogador (0=fim): '))\n",
    "    if numero == 0:\n",
    "        break\n",
    "    elif not 1 <= numero <= 23:\n",
    "        print('Informe um valor entre 1 e 23 ou 0 para sair!')\n",
    "        continue\n",
    "    votos[numero - 1] += 1\n",
    "\n",
    "total = sum(votos)\n",
    "print('Foram computados', total, 'votos.')\n",
    "print('Jogador\\tVotos\\t%')\n",
    "for i, voto in enumerate(votos):\n",
    "    if voto > 0:\n",
    "        print(f'{i+1}\\t{voto}\\t{voto/total:.1%}')\n",
    "\n",
    "melhor = max(votos)\n",
    "i = votos.index(melhor)\n",
    "porcentagem = melhor/total\n",
    "print(f'O melhor jogador foi o número {i+1}, com {melhor} votos, correspondendo a {porcentagem:.0%} do total de votos.')"
   ]
  }
 ],
 "metadata": {
  "colab": {
   "collapsed_sections": [],
   "provenance": []
  },
  "kernelspec": {
   "display_name": "Python 3",
   "language": "python",
   "name": "python3"
  },
  "language_info": {
   "codemirror_mode": {
    "name": "ipython",
    "version": 3
   },
   "file_extension": ".py",
   "mimetype": "text/x-python",
   "name": "python",
   "nbconvert_exporter": "python",
   "pygments_lexer": "ipython3",
   "version": "3.13.1"
  }
 },
 "nbformat": 4,
 "nbformat_minor": 5
}
