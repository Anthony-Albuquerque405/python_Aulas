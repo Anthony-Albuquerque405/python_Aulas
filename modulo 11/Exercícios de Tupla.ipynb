{
 "cells": [
  {
   "cell_type": "markdown",
   "metadata": {},
   "source": [
    "# Exercícios\n",
    "\n",
    "São exercícios bem parecidos com os que fizemos com listas. Mas na tupla, podemos não só trabalhar com índices, mas fazer o \"unpacking\" das tuplas, o que pode facilitar nossos códigos.\n",
    "\n",
    "## 1. Análise de Vendas\n",
    "\n",
    "Nesse exercício vamos fazer uma \"análise simples\" de atingimento de Meta.\n",
    "\n",
    "Temos uma lista com os vendedores e os valores de vendas e queremos identificar (printar) quais os vendedores que bateram a meta e qual foi o valor que eles venderam."
   ]
  },
  {
   "cell_type": "code",
   "execution_count": 6,
   "metadata": {},
   "outputs": [
    {
     "name": "stdout",
     "output_type": "stream",
     "text": [
      "O vendedor João bateu a meta. Valor vendido R$: 15,000.00\n",
      "O vendedor Julia bateu a meta. Valor vendido R$: 27,000.00\n",
      "O vendedor Ana bateu a meta. Valor vendido R$: 10,300.00\n"
     ]
    }
   ],
   "source": [
    "meta = 10000\n",
    "vendas = [\n",
    "    ('João', 15000),\n",
    "    ('Julia', 27000),\n",
    "    ('Marcus', 9900),\n",
    "    ('Maria', 3750),\n",
    "    ('Ana', 10300),\n",
    "    ('Alon', 7870),\n",
    "]\n",
    "\n",
    "for venda in vendas:\n",
    "    vendedor , valor = venda\n",
    "    if valor >= meta:\n",
    "        print(f\"O vendedor {vendedor} bateu a meta. Valor vendido R$: {valor:,.2f}\")\n",
    "    "
   ]
  },
  {
   "cell_type": "markdown",
   "metadata": {},
   "source": [
    "## 2. Comparação com Ano Anterior\n",
    "\n",
    "Digamos que você está analisando as vendas de produtos de um ecommerce e quer identificar quais produtos tiveram no ano de 2020 mais vendas do que no ano de 2019, para reportar isso para a diretoria.\n",
    "\n",
    "Sua resposta pode ser um print de cada produto, qual foi a venda de 2019, a venda de 2020 e o % de crescimento de 2020 para 2019.\n",
    "\n",
    "Lembrando, para calcular o % de crescimento de um produto de um ano para o outro, podemos fazer: (vendas_produto2020/vendas_produto2019 - 1)\n",
    "\n",
    "A lógica da tupla é: (produto, vendas2019, vendas2020)"
   ]
  },
  {
   "cell_type": "code",
   "execution_count": 15,
   "metadata": {},
   "outputs": [
    {
     "name": "stdout",
     "output_type": "stream",
     "text": [
      "iphone - venda 2019: 558,147 - venda 2020: 951,642 - crescimento: 70.5%\n",
      "tv - venda 2019: 405,252 - venda 2020: 787,604 - crescimento: 94.3%\n",
      "máquina de café - venda 2019: 718,654 - venda 2020: 867,660 - crescimento: 20.7%\n",
      "notebook dell - venda 2019: 422,760 - venda 2020: 694,913 - crescimento: 64.4%\n",
      "notebook hp - venda 2019: 154,753 - venda 2020: 539,704 - crescimento: 248.8%\n",
      "microsoft surface - venda 2019: 438,508 - venda 2020: 667,179 - crescimento: 52.1%\n",
      "webcam - venda 2019: 237,467 - venda 2020: 295,633 - crescimento: 24.5%\n",
      "caixa de som - venda 2019: 489,705 - venda 2020: 725,316 - crescimento: 48.1%\n",
      "microfone - venda 2019: 328,311 - venda 2020: 644,622 - crescimento: 96.3%\n",
      "câmera canon - venda 2019: 591,120 - venda 2020: 994,303 - crescimento: 68.2%\n"
     ]
    }
   ],
   "source": [
    "vendas_produtos = [('iphone', 558147, 951642), \n",
    "                   ('galaxy', 712350, 244295), \n",
    "                   ('ipad', 573823, 26964), \n",
    "                   ('tv', 405252, 787604), \n",
    "                   ('máquina de café', 718654, 867660), \n",
    "                   ('kindle', 531580, 78830), \n",
    "                   ('geladeira', 973139, 710331), \n",
    "                   ('adega', 892292, 646016), \n",
    "                   ('notebook dell', 422760, 694913), \n",
    "                   ('notebook hp', 154753, 539704),\n",
    "                   ('notebook asus', 887061, 324831), \n",
    "                   ('microsoft surface', 438508, 667179), \n",
    "                   ('webcam', 237467, 295633), \n",
    "                   ('caixa de som', 489705, 725316), \n",
    "                   ('microfone', 328311, 644622), \n",
    "                   ('câmera canon', 591120, 994303)\n",
    "]\n",
    "\n",
    "#seu código aqui\n",
    "for produto, vendas2019, vendas2020 in vendas_produtos:\n",
    "    if vendas2020 > vendas2019:\n",
    "        crescimento = vendas2020 / vendas2019 -1\n",
    "        print(f\"{produto} - venda 2019: {vendas2019:,} - venda 2020: {vendas2020:,} - crescimento: {crescimento:,.1%}\")\n"
   ]
  }
 ],
 "metadata": {
  "kernelspec": {
   "display_name": "Python 3",
   "language": "python",
   "name": "python3"
  },
  "language_info": {
   "codemirror_mode": {
    "name": "ipython",
    "version": 3
   },
   "file_extension": ".py",
   "mimetype": "text/x-python",
   "name": "python",
   "nbconvert_exporter": "python",
   "pygments_lexer": "ipython3",
   "version": "3.13.1"
  }
 },
 "nbformat": 4,
 "nbformat_minor": 4
}
