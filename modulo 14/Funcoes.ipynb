{
 "cells": [
  {
   "cell_type": "markdown",
   "id": "a2fee89b",
   "metadata": {},
   "source": [
    "### Forma de pensar"
   ]
  },
  {
   "cell_type": "code",
   "execution_count": null,
   "id": "1be9db7d",
   "metadata": {},
   "outputs": [],
   "source": [
    "# Top -> Down\n",
    "\n",
    "# Exemplo simples: atravessar a rua\n",
    "\n",
    "# atravessar a rua \n",
    "    # olhar para os dois lados\n",
    "        # olhar para direita e ver se esta vindo carro \n",
    "        # olhar para esquerda é ver se esta vindo carro \n",
    "        # se não vier carro em nenhum dos lados \n",
    "    #  andar até o outro lado da calçada "
   ]
  },
  {
   "cell_type": "markdown",
   "id": "672e10e0",
   "metadata": {},
   "source": [
    "### Exemplo de Exercício do Curso"
   ]
  },
  {
   "cell_type": "markdown",
   "id": "fee80189",
   "metadata": {},
   "source": [
    "#### 23. Faça um Programa para uma loja de tintas. O programa deverá pedir o tamanho em metros quadrados da área a ser pintada. Considere que a cobertura da tinta é de 1 litro para cada 6 metros quadrados e que a tinta é vendida em latas de 18 litros, que custam R\\\\$ 80,00 ou em galões de 3,6 litros, que custam R\\\\$ 25,00."
   ]
  },
  {
   "cell_type": "code",
   "execution_count": null,
   "id": "4499bb83",
   "metadata": {},
   "outputs": [
    {
     "name": "stdout",
     "output_type": "stream",
     "text": [
      "43 latas\n",
      "3440 Custo\n"
     ]
    }
   ],
   "source": [
    "# descobrir qunatas latas de tintas e quanto custa para pintar \n",
    "        # descobri quantas latas de tinta \n",
    "                # Descobrir qual a area queo usuario vai pintar\n",
    "area = int(input(\"Qual a área (m²)\"))\n",
    "                # quantos litros de tinta vou precisar para área pintada\n",
    "litros = area / 6               \n",
    "                # quantas latas vou precisar para chegar na quantidade de litros de tinta\n",
    "latas = litros / 18\n",
    "\n",
    "if latas > int(latas):\n",
    "    latas = int(latas) + 1\n",
    "# qual o custo da pintura \n",
    "        # Quantidade de latas * preço das latas \n",
    "custo = latas * 80\n",
    "\n",
    "print(latas, \"latas\")\n",
    "print(custo, \"Custo\")\n",
    "\n"
   ]
  },
  {
   "cell_type": "markdown",
   "id": "0d5fa10a",
   "metadata": {},
   "source": [
    "##### Informe ao usuário as quantidades de tinta a serem compradas e os respectivos preços em 3 situações.\n",
    "\n",
    "Dica: lembre dos operadores // e % mostrados em exercícios anteriores<br>\n",
    "Dica1: numero // 10 vai te dar como resposta a parte inteira da divisão do número por 10. Ex: 7 // 3 = 2; 10 // 3 = 3<br> \n",
    "Dica2: numero % 10 vai te dar o resto da divisão do número por 10. Ex: 7 % 3 = 1; 10 % 3 = 1; 15 % 3 = 0\n",
    "\n",
    "##### 1. Comprar apenas latas de 18 litros: (apenas latas inteiras)"
   ]
  },
  {
   "cell_type": "code",
   "execution_count": 11,
   "id": "bc38cdcd",
   "metadata": {},
   "outputs": [
    {
     "name": "stdout",
     "output_type": "stream",
     "text": [
      "Latas: 5\n",
      "Custo R$: 400.00\n"
     ]
    }
   ],
   "source": [
    "def area_a_ser_pintada():\n",
    "    area = int(input(\"Qual a área (m²) da pintura\"))\n",
    "    return area\n",
    "\n",
    "def calcular_litros(area):\n",
    "    litros = area / 6\n",
    "    return litros\n",
    "\n",
    "def latas_a_ser_usada(litros):\n",
    "    latas = litros / 18\n",
    "    if latas > int(latas):\n",
    "        latas = int(latas) + 1\n",
    "    return latas\n",
    "\n",
    "def custo_pintura(latas):\n",
    "    custo = latas * 80\n",
    "    return custo\n",
    "\n",
    "area = area_a_ser_pintada()\n",
    "litros = calcular_litros(area)\n",
    "latas = latas_a_ser_usada(litros)\n",
    "custo = custo_pintura(latas)\n",
    "\n",
    "print(f\"Latas: {latas}\\nCusto R$: {custo:,.2f}\")\n"
   ]
  },
  {
   "cell_type": "markdown",
   "id": "15dc7322",
   "metadata": {},
   "source": [
    "##### 2. Comprar apenas galões de 3,6 litros: (apenas galoes inteiros)"
   ]
  },
  {
   "cell_type": "code",
   "execution_count": 10,
   "id": "6e0a01af",
   "metadata": {},
   "outputs": [
    {
     "name": "stdout",
     "output_type": "stream",
     "text": [
      "Galões: 22\n",
      "Custo R$: 550.00\n"
     ]
    }
   ],
   "source": [
    "def calcular_galao(litros):\n",
    "    galao = litros / 3.6\n",
    "    if galao > int(galao):\n",
    "        galao = int(galao) + 1    \n",
    "    return galao\n",
    "\n",
    "def custo_galao(galao):\n",
    "    custo = galao * 25\n",
    "    return custo\n",
    "\n",
    "area = area_a_ser_pintada()\n",
    "litros = calcular_litros(area)\n",
    "galao = calcular_galao(litros)\n",
    "custo = custo_galao(galao)\n",
    "\n",
    "print(f\"Galões: {galao}\\nCusto R$: {custo:,.2f}\")"
   ]
  },
  {
   "cell_type": "markdown",
   "id": "35e0aa11",
   "metadata": {},
   "source": [
    "##### 3. Misturar latas e galões, de forma que o desperdício de tinta seja menor. Sempre arredonde os valores para cima, isto é, considere latas cheias."
   ]
  },
  {
   "cell_type": "markdown",
   "id": "95a3d342",
   "metadata": {},
   "source": [
    "O custo da lata é 80/18 = 4,44 R\\\\$/L\n",
    "\n",
    "O custo do galão é 25/3,6 = 6,94 R\\\\$/L\n",
    "\n",
    "A lata é mais econômica, então todas as latas inteiras que pudermos usar devemos comprar em latas. Se ficar faltando alguma coisa para completar devemos avaliar se é melhor comprar latas ou galões. Exemplo:\n",
    "\n",
    "Se queremos comprar 90 litros. 5 latas dão exatamente 90 litros. Então devemos comprar tudo em latas.\n",
    "\n",
    "Se queremos comprar 95 litros. 5 latas dão exatamente 90 litros. Então devemos comprar pelo menos 5 latas e avaliar o que falta, se estes últimos 5 litros valem mais apenas em latas ou galões.\n",
    "\n",
    "Para os 5 litros faltantes precisamos de 2 galões que custam 50 reais no total. Ou de uma lata que custa 80 reais no total. Portanto, neste caso vale mais a pena usar 2 galões.\n",
    "\n",
    "Se queremos comprar 107 litros. 5 latas dão exatamente 90 litros. Então devemos comprar pelo menos 5 latas e avaliar o que falta, se estes últimos 5 litros valem mais apenas em latas ou galões.\n",
    "\n",
    "Para os 17 litros faltantes precisamos de 5 galões que custam 125 reais no total. Ou de uma lata que custa 80 reais no total. Portanto, neste caso vale mais a pena usar uma lata.\n",
    "\n",
    "3 galões custam 75 reais, 4 galões custam 100 reais. Então, se for possível completar com até 3 galões escolhe-se galões. Qualquer quantidade maior que 3 galões, usa-se latas.\n",
    "\n",
    "Podemos ir ao exercício:"
   ]
  },
  {
   "cell_type": "code",
   "execution_count": 13,
   "id": "0e9847d9",
   "metadata": {},
   "outputs": [],
   "source": [
    "# top --- dow \n",
    "# Pegar a área a ser pintada \n",
    "area = area_a_ser_pintada()\n",
    "#  quantos litros vou usar de tinta \n",
    "litros = calcular_litros(area)\n",
    "#  quantas latas e galões vou usar \n",
    "    # calcular quantas latas inteiras vou precisar \n",
    "    # calcular quanto custa preencher esses litros com galões \n",
    "    # calcular quanto custa para preencher com latas \n",
    "    # escolher o mais barato \n",
    "\n",
    "# calcular o custo total\n",
    "\n",
    "def calcular_custo(latas, galoes):\n",
    "    custo_latas = latas * 80\n",
    "    custo_galao = galoes * 25\n",
    "    custo = custo_latas + custo_galao\n",
    "    return custo"
   ]
  },
  {
   "cell_type": "code",
   "execution_count": 18,
   "id": "4e4b363c",
   "metadata": {},
   "outputs": [
    {
     "name": "stdout",
     "output_type": "stream",
     "text": [
      "Litros 262.5\n",
      "Latas 14\n",
      "Galoes 3\n",
      "Custo 1195\n"
     ]
    }
   ],
   "source": [
    "# Pegar a área a ser pintada\n",
    "def area_a_ser_pintada():\n",
    "    area = int(input(\"Escreva qual a área a ser pintada (m²):\"))\n",
    "    return area\n",
    "\n",
    "# Pegar quantos litros eu vou precisar de tinta\n",
    "def calcular_litros_tinta(area):\n",
    "    litros = area / 6\n",
    "    return litros\n",
    "\n",
    "# Calcular quantas latas e quantos galões eu vou precisar\n",
    "    # Calcular quantas latas inteiras eu vou precisar\n",
    "    # Calcular quantos litros ainda faltam comprar\n",
    "    # Calcular quanto custa preencher esses litros que faltam com galao\n",
    "    # Calcular quanto custa preencher esses litros que faltam com latas\n",
    "    # Escolher a opção mais barata\n",
    "def calcular_qtde_latas_galoes(litros):\n",
    "    latas = 0\n",
    "    galoes = 0\n",
    "\n",
    "    latas_inteiras = int(litros / 18)\n",
    "\n",
    "    litros_faltam = litros % 18\n",
    "    # se for preencher com latas\n",
    "    custo_extra_latas = 1 * 80\n",
    "\n",
    "    # se for preencher com galoes\n",
    "    galoes = litros_faltam / 3.6 # 2\n",
    "    if galoes > int(galoes):\n",
    "        galoes = int(galoes) + 1\n",
    "    custo_extra_galoes = galoes * 25\n",
    "\n",
    "    if custo_extra_latas < custo_extra_galoes:\n",
    "        latas = latas_inteiras + 1\n",
    "        galoes = 0\n",
    "    else:\n",
    "        latas = latas_inteiras\n",
    "    return latas, galoes\n",
    "\n",
    "# Calcular o custo total\n",
    "def calcular_custo(latas, galoes):\n",
    "    custo_latas = latas * 80\n",
    "    custo_galoes = galoes * 25\n",
    "    custo = custo_latas + custo_galoes\n",
    "    return custo\n",
    "\n",
    "\n",
    "\n",
    "area = area_a_ser_pintada()\n",
    "litros = calcular_litros_tinta(area)\n",
    "latas, galoes = calcular_qtde_latas_galoes(litros)\n",
    "custo = calcular_custo(latas, galoes)\n",
    "print(\"Litros\", litros)\n",
    "print(\"Latas\", latas)\n",
    "print(\"Galoes\", galoes)\n",
    "print(\"Custo\", custo)"
   ]
  }
 ],
 "metadata": {
  "kernelspec": {
   "display_name": "Python 3",
   "language": "python",
   "name": "python3"
  },
  "language_info": {
   "codemirror_mode": {
    "name": "ipython",
    "version": 3
   },
   "file_extension": ".py",
   "mimetype": "text/x-python",
   "name": "python",
   "nbconvert_exporter": "python",
   "pygments_lexer": "ipython3",
   "version": "3.13.1"
  }
 },
 "nbformat": 4,
 "nbformat_minor": 5
}
