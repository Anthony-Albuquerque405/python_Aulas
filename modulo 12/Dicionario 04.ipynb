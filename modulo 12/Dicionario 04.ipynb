{
 "cells": [
  {
   "cell_type": "markdown",
   "metadata": {},
   "source": [
    "# For nos Dicionarios\n",
    "\n",
    "### Estrutura:"
   ]
  },
  {
   "cell_type": "raw",
   "metadata": {},
   "source": [
    "for chave in dicionario:\n",
    "    faça alguma coisa"
   ]
  },
  {
   "cell_type": "code",
   "execution_count": 3,
   "metadata": {},
   "outputs": [
    {
     "name": "stdout",
     "output_type": "stream",
     "text": [
      "iphone vendeu 15000 unidades\n",
      "samsung galaxy vendeu 12000 unidades\n",
      "tv samsung vendeu 10000 unidades\n",
      "ps5 vendeu 14300 unidades\n",
      "tablet vendeu 1720 unidades\n",
      "ipad vendeu 1000 unidades\n",
      "tv philco vendeu 2500 unidades\n",
      "notebook hp vendeu 1000 unidades\n",
      "notebook dell vendeu 17000 unidades\n",
      "notebook asus vendeu 2450 unidades\n"
     ]
    }
   ],
   "source": [
    "vendas_tecnologia = {'iphone': 15000, 'samsung galaxy': 12000, 'tv samsung': 10000, 'ps5': 14300, 'tablet': 1720, 'ipad': 1000, 'tv philco': 2500, 'notebook hp': 1000, 'notebook dell': 17000, 'notebook asus': 2450}\n",
    " \n",
    "#demonstrando o for\n",
    "\n",
    "for chave in vendas_tecnologia:\n",
    "    print(f\"{chave} vendeu {vendas_tecnologia[chave]} unidades\")"
   ]
  },
  {
   "cell_type": "markdown",
   "metadata": {},
   "source": [
    "- Qual o total de notebooks vendidos?"
   ]
  },
  {
   "cell_type": "code",
   "execution_count": 4,
   "metadata": {},
   "outputs": [
    {
     "name": "stdout",
     "output_type": "stream",
     "text": [
      "1000\n",
      "18000\n",
      "20450\n"
     ]
    }
   ],
   "source": [
    "total_notbook = 0 \n",
    "\n",
    "for chave in vendas_tecnologia:\n",
    "    if \"notebook\" in chave:\n",
    "        total_notbook += vendas_tecnologia[chave]\n",
    "        print(total_notbook)"
   ]
  }
 ],
 "metadata": {
  "kernelspec": {
   "display_name": "Python 3",
   "language": "python",
   "name": "python3"
  },
  "language_info": {
   "codemirror_mode": {
    "name": "ipython",
    "version": 3
   },
   "file_extension": ".py",
   "mimetype": "text/x-python",
   "name": "python",
   "nbconvert_exporter": "python",
   "pygments_lexer": "ipython3",
   "version": "3.13.1"
  }
 },
 "nbformat": 4,
 "nbformat_minor": 4
}
