{
 "cells": [
  {
   "cell_type": "code",
   "execution_count": 1,
   "id": "f384c181",
   "metadata": {},
   "outputs": [],
   "source": [
    "produtos = [\"iphone\", \"ipad\", \"airpod\", \"macbook\"]\n",
    "precos = [7000, 10000, 2500, 14000]"
   ]
  },
  {
   "cell_type": "markdown",
   "id": "ed0a699c",
   "metadata": {},
   "source": [
    "### For item in lista"
   ]
  },
  {
   "cell_type": "code",
   "execution_count": 8,
   "id": "3053355f",
   "metadata": {},
   "outputs": [
    {
     "name": "stdout",
     "output_type": "stream",
     "text": [
      "Os precos com imposto R$: 7,350.0 \n",
      "Os precos com imposto R$: 10,500.0 \n",
      "Os precos com imposto R$: 2,625.0 \n",
      "Os precos com imposto R$: 14,700.0 \n"
     ]
    }
   ],
   "source": [
    "# preco com imposto\n",
    "\n",
    "for preco in precos:\n",
    "    imposto_preco = preco * 1.05\n",
    "    print(f\"Os precos com imposto R$: {imposto_preco:,} \")"
   ]
  },
  {
   "cell_type": "markdown",
   "id": "80aa8d07",
   "metadata": {},
   "source": [
    "### For i in range"
   ]
  },
  {
   "cell_type": "code",
   "execution_count": null,
   "id": "74b8e12d",
   "metadata": {},
   "outputs": [],
   "source": [
    "# preco de cada produto\n",
    "\n"
   ]
  },
  {
   "cell_type": "markdown",
   "id": "ba0b37d3",
   "metadata": {},
   "source": [
    "### For item in lista com enumerate"
   ]
  },
  {
   "cell_type": "code",
   "execution_count": null,
   "id": "38271545",
   "metadata": {},
   "outputs": [],
   "source": [
    "# preco de cada produto com imposto\n"
   ]
  },
  {
   "cell_type": "code",
   "execution_count": null,
   "id": "827fc0d0",
   "metadata": {},
   "outputs": [],
   "source": []
  }
 ],
 "metadata": {
  "kernelspec": {
   "display_name": "Python 3",
   "language": "python",
   "name": "python3"
  },
  "language_info": {
   "codemirror_mode": {
    "name": "ipython",
    "version": 3
   },
   "file_extension": ".py",
   "mimetype": "text/x-python",
   "name": "python",
   "nbconvert_exporter": "python",
   "pygments_lexer": "ipython3",
   "version": "3.13.1"
  }
 },
 "nbformat": 4,
 "nbformat_minor": 5
}
