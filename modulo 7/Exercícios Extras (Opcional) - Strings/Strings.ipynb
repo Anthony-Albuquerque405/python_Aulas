{
 "cells": [
  {
   "cell_type": "markdown",
   "id": "2b04bbea",
   "metadata": {},
   "source": [
    "# Strings\n",
    "\n",
    "<span style=\"color: red;\"><b>Todos os exercícios são feitos partindo-se do pressuposto de que todas as entradas são dadas de forma correta. Casos limite não mencionados no enunciado não são abordados porque não fazem parte do exercício.</b></span>"
   ]
  },
  {
   "cell_type": "markdown",
   "id": "5b1f33b9",
   "metadata": {},
   "source": [
    "#### 1. Tamanho de strings. Faça um programa que leia 2 strings e informe o conteúdo delas seguido do seu comprimento. Informe também se as duas strings possuem o mesmo comprimento e são iguais ou diferentes no conteúdo.\n",
    "<pre>\n",
    "Compara duas strings\n",
    "String 1: Brasil Hexa 2006\n",
    "String 2: Brasil! Hexa 2006!\n",
    "Tamanho de \"Brasil Hexa 2006\": 16 caracteres\n",
    "Tamanho de \"Brasil! Hexa 2006!\": 18 caracteres\n",
    "As duas strings são de tamanhos diferentes.\n",
    "As duas strings possuem conteúdo diferente.\n",
    "</pre>"
   ]
  },
  {
   "cell_type": "code",
   "execution_count": 16,
   "id": "c492b657",
   "metadata": {},
   "outputs": [
    {
     "name": "stdout",
     "output_type": "stream",
     "text": [
      "Brasil Hexa 2006. a frase possui 16, caracteres\n",
      "Brasil! Hexa 2006!. a frase possui 18, caracteres\n",
      "são diferentes\n",
      " Não Tem o mesmo tamanho\n"
     ]
    }
   ],
   "source": [
    "\n",
    "strg1 = \"Brasil Hexa 2006\"\n",
    "strg2 = \"Brasil! Hexa 2006!\"\n",
    "\n",
    "tamanho1 = len(strg1)  # função len() informa o tamanho do testo \n",
    "tamanho2 = len(strg2)\n",
    "\n",
    "print(f\"{strg1}. a frase possui {tamanho1}, caracteres\")\n",
    "print(f\"{strg2}. a frase possui {tamanho2}, caracteres\")\n",
    "\n",
    "if strg1 != strg2:\n",
    "    print(\"são diferentes\")\n",
    "else:\n",
    "    print(\"São iguais\")\n",
    "\n",
    "if len(strg1) == len(strg2):\n",
    "    print(\"tem o mesmo tamanho\")\n",
    "else:\n",
    "    print(\" Não Tem o mesmo tamanho\")"
   ]
  },
  {
   "cell_type": "markdown",
   "id": "c3068a53",
   "metadata": {},
   "source": [
    "#### 2. Valida e corrige número de telefone. Faça um programa que leia um número de telefone, e corrija o número no caso deste conter somente 7 dígitos, acrescentando o '3' na frente. O usuário pode informar o número com ou sem o traço separador.\n",
    "<pre>\n",
    "Valida e corrige número de telefone\n",
    "Telefone: 461-0133\n",
    "Telefone possui 7 dígitos. Vou acrescentar o digito três na frente.\n",
    "Telefone corrigido sem formatação: 34610133\n",
    "Telefone corrigido com formatação: 3461-0133\n",
    "</pre>"
   ]
  },
  {
   "cell_type": "code",
   "execution_count": 21,
   "id": "0308566d",
   "metadata": {},
   "outputs": [
    {
     "name": "stdout",
     "output_type": "stream",
     "text": [
      "numero não possui 7 digitos\n"
     ]
    }
   ],
   "source": [
    "numero = input(\"digite seu numero\")\n",
    "\n",
    "if len(numero) == 7:\n",
    "    print(\"O numero só tem 7 digitos, irei adicionar o digito 3 na frente\")\n",
    "    numero = \"3\" + numero\n",
    "    print(f\"Telefone corrigido sem formatação {numero} \")\n",
    "    print(f\"Telefone corrigido com formatação: {numero[:4]}-{numero[4:]}\")\n",
    "else:\n",
    "    print(\"numero não possui 7 digitos\")\n"
   ]
  }
 ],
 "metadata": {
  "kernelspec": {
   "display_name": "Python 3",
   "language": "python",
   "name": "python3"
  },
  "language_info": {
   "codemirror_mode": {
    "name": "ipython",
    "version": 3
   },
   "file_extension": ".py",
   "mimetype": "text/x-python",
   "name": "python",
   "nbconvert_exporter": "python",
   "pygments_lexer": "ipython3",
   "version": "3.13.1"
  }
 },
 "nbformat": 4,
 "nbformat_minor": 5
}
