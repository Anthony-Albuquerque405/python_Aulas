{
 "cells": [
  {
   "cell_type": "markdown",
   "metadata": {},
   "source": [
    "# Exercícios\n",
    "\n",
    "## 1. Faturamento do Melhor e do Pior Mês do Ano\n",
    "\n",
    "Qual foi o valor de vendas do melhor mês do Ano?\n",
    "E valor do pior mês do ano?"
   ]
  },
  {
   "cell_type": "code",
   "execution_count": 47,
   "metadata": {},
   "outputs": [
    {
     "name": "stdout",
     "output_type": "stream",
     "text": [
      "49051\n",
      "9650\n"
     ]
    }
   ],
   "source": [
    "meses = ['jan', 'fev', 'mar', 'abr', 'mai', 'jun', 'jul', 'ago', 'set', 'out', 'nov', 'dez']\n",
    "vendas_1sem = [25000, 29000, 22200, 17750, 15870, 19900]\n",
    "vendas_2sem = [19850, 20120, 17540, 15555, 49051, 9650]\n",
    "\n",
    "vendas_1sem += vendas_2sem\n",
    "\n",
    "print(max(vendas_1sem))\n",
    "print(min(vendas_1sem))\n",
    "\n",
    "\n",
    "\n",
    "# print(f\"O melhor mês de vendas foi: {meses[10]}. Com um total de vendas de: {vendas_1sem[10]}\")\n",
    "# print(f\"O pior mês de vendad foi:{meses[11]}. Com um total de vendas de: {vendas_1sem[11]}\")\n",
    "\n"
   ]
  },
  {
   "cell_type": "markdown",
   "metadata": {},
   "source": [
    "## 2. Continuação\n",
    "\n",
    "Agora relacione as duas listas para printar 'O melhor mês do ano foi {} com {} vendas' e o mesmo para o pior mês do ano.\n",
    "\n",
    "Calcule também o faturamento total do Ano e quanto que o melhor mês representou do faturamento total.\n",
    "\n",
    "Obs: Para o faturamento total, pode usar a função sum(lista) que soma todos os itens de uma lista"
   ]
  },
  {
   "cell_type": "code",
   "execution_count": 48,
   "metadata": {},
   "outputs": [
    {
     "name": "stdout",
     "output_type": "stream",
     "text": [
      "O melhor mês do ano foi nov com vendas 49051\n",
      "O pior mês do ano foi dez com vendas 9650\n",
      "O faturamento total do ano foi 261486\n",
      "O percentual do melhor mês foi 18.8%\n"
     ]
    }
   ],
   "source": [
    "i_maior = vendas_1sem.index(max(vendas_1sem))\n",
    "\n",
    "i_menor = vendas_1sem.index(min(vendas_1sem))\n",
    "\n",
    "\n",
    "print(f\"O melhor mês do ano foi {meses[i_maior]} com vendas {max(vendas_1sem)}\\nO pior mês do ano foi {meses[i_menor]} com vendas {min(vendas_1sem)}\\nO faturamento total do ano foi {sum(vendas_1sem)}\")\n",
    "print(f\"O percentual do melhor mês foi {max(vendas_1sem) / sum(vendas_1sem):.1%}\")\n",
    "\n",
    "# faturamento = sum(vendas_1sem)\n",
    "# print(f\"O melhor mês do ano foi {meses[10]} com {vendas_1sem[10]} de vendas \\nO pior mês do ano foi {meses[11]} com {vendas_1sem[11]} de vendas.\\nO faturamento foi {faturamento}\")\n"
   ]
  },
  {
   "cell_type": "markdown",
   "metadata": {},
   "source": [
    "## 3. Crie uma lista com o top 3 valores de vendas do ano (sem fazer \"no olho\")\n",
    "\n",
    "Dica: o método remove retira um item da lista."
   ]
  },
  {
   "cell_type": "code",
   "execution_count": 49,
   "metadata": {},
   "outputs": [
    {
     "name": "stdout",
     "output_type": "stream",
     "text": [
      "[25000, 29000, 22200, 17750, 15870, 19900, 19850, 20120, 17540, 15555, 49051, 9650]\n",
      "[49051, 29000, 25000]\n"
     ]
    }
   ],
   "source": [
    "top3 = []\n",
    "print(vendas_1sem)\n",
    "maio_valor = max(vendas_1sem)  #| achando o maior valor \n",
    "top3.append(maio_valor)        # Colocando ela na lista top3\n",
    "vendas_1sem.remove(maio_valor) # Removendo o maior valor da lista vendas_1sem\n",
    "\n",
    "maio_valor = max(vendas_1sem)  #| achando o maior valor \n",
    "top3.append(maio_valor)          # Colocando ela na lista top3\n",
    "vendas_1sem.remove(maio_valor)  # Removendo o maior valor da lista vendas_1sem\n",
    "\n",
    "maio_valor = max(vendas_1sem)\n",
    "top3.append(maio_valor)\n",
    "\n",
    "print(top3)\n"
   ]
  }
 ],
 "metadata": {
  "kernelspec": {
   "display_name": "Python 3",
   "language": "python",
   "name": "python3"
  },
  "language_info": {
   "codemirror_mode": {
    "name": "ipython",
    "version": 3
   },
   "file_extension": ".py",
   "mimetype": "text/x-python",
   "name": "python",
   "nbconvert_exporter": "python",
   "pygments_lexer": "ipython3",
   "version": "3.13.1"
  }
 },
 "nbformat": 4,
 "nbformat_minor": 4
}
